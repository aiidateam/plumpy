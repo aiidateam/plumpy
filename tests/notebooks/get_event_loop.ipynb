{
 "cells": [
  {
   "cell_type": "code",
   "execution_count": 1,
   "metadata": {},
   "outputs": [],
   "source": [
    "import asyncio\n",
    "\n",
    "from plumpy import PlumpyEventLoopPolicy, set_event_loop_policy\n",
    "\n",
    "set_event_loop_policy()\n",
    "assert isinstance(asyncio.get_event_loop_policy(), PlumpyEventLoopPolicy)\n",
    "assert hasattr(asyncio.get_event_loop(), '_nest_patched')"
   ]
  }
 ],
 "metadata": {
  "kernelspec": {
   "display_name": "Python 3",
   "language": "python",
   "name": "python3"
  },
  "language_info": {
   "codemirror_mode": {
    "name": "ipython",
    "version": 3
   },
   "file_extension": ".py",
   "mimetype": "text/x-python",
   "name": "python",
   "nbconvert_exporter": "python",
   "pygments_lexer": "ipython3",
   "version": "3.8.5"
  }
 },
 "nbformat": 4,
 "nbformat_minor": 4
}
